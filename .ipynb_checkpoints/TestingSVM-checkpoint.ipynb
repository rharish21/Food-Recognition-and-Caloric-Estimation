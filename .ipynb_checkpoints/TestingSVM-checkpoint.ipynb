{
 "cells": [
  {
   "cell_type": "code",
   "execution_count": 16,
   "metadata": {
    "collapsed": false
   },
   "outputs": [],
   "source": [
    "%matplotlib inline\n",
    "from scipy import misc\n",
    "from scipy import ndimage\n",
    "import matplotlib.pyplot as plt\n",
    "import numpy as np\n",
    "import os\n",
    "import sys"
   ]
  },
  {
   "cell_type": "code",
   "execution_count": 71,
   "metadata": {
    "collapsed": true
   },
   "outputs": [],
   "source": [
    "#function for image processing\n",
    "def image_processing(path, image, count, isJpg):\n",
    "    if isJpg == True:\n",
    "        # file name of the file coming from the read_from_folder function\n",
    "        file_name = path + '/' + image\n",
    "        \n",
    "        # converting file to ndarray\n",
    "        img = misc.imread(file_name,mode = 'RGB')\n",
    "        imgArray = np.array(img, dtype='uint8')\n",
    "        \n",
    "        \n",
    "        # rotating it and changing its file name, extension\n",
    "        new_file_name = path + '/' + 'img' + str(count) + '.jpg'\n",
    "        rotate_45 = ndimage.rotate(imgArray, -45)\n",
    "        new_file_name_rot45 = path + '/' + 'img_rot45_' + str(count) + '.jpg'\n",
    "        rotate_90 = ndimage.rotate(imgArray, -90)\n",
    "        new_file_name_rot90 = path + '/' + 'img_rot90_' + str(count) + '.jpg'\n",
    "        rotate_270 = ndimage.rotate(imgArray, -270)\n",
    "        new_file_name_rot270 = path + '/' + 'img_rot270_' + str(count) + '.jpg'\n",
    "        \n",
    "        # resizing the image to size of 500*500\n",
    "        new_img = misc.imresize(imgArray, (500,500), interp='bilinear')\n",
    "        new_rotate_45 = misc.imresize(rotate_45, (500,500), interp='bilinear')\n",
    "        new_rotate_90 = misc.imresize(rotate_90, (500,500), interp='bilinear')\n",
    "        new_rotate_270 = misc.imresize(rotate_270, (500,500), interp='bilinear')\n",
    "        \n",
    "        #saving all the possible file names\n",
    "        misc.imsave(new_file_name, new_img)\n",
    "        misc.imsave(new_file_name_rot45, new_rotate_45)\n",
    "        misc.imsave(new_file_name_rot90, new_rotate_90)\n",
    "        misc.imsave(new_file_name_rot270, new_rotate_270)\n",
    "        \n",
    "        #deleting the previous images\n",
    "        #os.remove(file_name)"
   ]
  },
  {
   "cell_type": "code",
   "execution_count": 72,
   "metadata": {
    "collapsed": false
   },
   "outputs": [],
   "source": [
    "# function to read the image from the folder\n",
    "folder_path = '/Users/harshitpareek/Downloads/Images' # test path for my computer\n",
    "def read_from_folder(path = folder_path):\n",
    "    counter = 0;\n",
    "    os.chdir(path) # changing the current working directory with the path\n",
    "    for dir_path, dir_names, file_names in os.walk(os.getcwd()): # searching in every file and folder of the folder\n",
    "        # only doing the code where the only folder has all the image files\n",
    "        for file in file_names:\n",
    "            if file.find('.jpg') != -1: # find if the file has .jpg extension or not\n",
    "                # code if the file already contain the .jpg file extension\n",
    "                counter += 1\n",
    "                image_processing(dir_path,file,counter, True)\n",
    "            else:\n",
    "                # code if the file does not contain the .jpg file extension\n",
    "                counter += 1\n",
    "    #print(counter)\n",
    "read_from_folder()"
   ]
  },
  {
   "cell_type": "code",
   "execution_count": null,
   "metadata": {
    "collapsed": false
   },
   "outputs": [],
   "source": [
    "    \n",
    "    "
   ]
  },
  {
   "cell_type": "code",
   "execution_count": null,
   "metadata": {
    "collapsed": false
   },
   "outputs": [],
   "source": []
  },
  {
   "cell_type": "code",
   "execution_count": null,
   "metadata": {
    "collapsed": true
   },
   "outputs": [],
   "source": []
  }
 ],
 "metadata": {
  "anaconda-cloud": {},
  "kernelspec": {
   "display_name": "Python [default]",
   "language": "python",
   "name": "python2"
  },
  "language_info": {
   "codemirror_mode": {
    "name": "ipython",
    "version": 2
   },
   "file_extension": ".py",
   "mimetype": "text/x-python",
   "name": "python",
   "nbconvert_exporter": "python",
   "pygments_lexer": "ipython2",
   "version": "2.7.12"
  }
 },
 "nbformat": 4,
 "nbformat_minor": 0
}
