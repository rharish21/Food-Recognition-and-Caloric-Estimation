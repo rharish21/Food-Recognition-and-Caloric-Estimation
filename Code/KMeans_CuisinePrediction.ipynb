{
 "cells": [
  {
   "cell_type": "markdown",
   "metadata": {},
   "source": [
    "# Cuisine Clustering Using KMeans"
   ]
  },
  {
   "cell_type": "code",
   "execution_count": 19,
   "metadata": {
    "collapsed": false
   },
   "outputs": [],
   "source": [
    "import numpy as np\n",
    "from sklearn.datasets import load_iris\n",
    "from sklearn.cluster import KMeans\n",
    "from sklearn import svm\n",
    "import seaborn\n",
    "import pandas as pd\n",
    "from matplotlib import pyplot as plt\n",
    "%matplotlib inline"
   ]
  },
  {
   "cell_type": "code",
   "execution_count": 21,
   "metadata": {
    "collapsed": false
   },
   "outputs": [
    {
     "name": "stdout",
     "output_type": "stream",
     "text": [
      "[[  18.      6.  ]\n",
      " [  21.      8.  ]\n",
      " [   8.      2.99]\n",
      " [   6.      4.49]\n",
      " [   9.      5.  ]\n",
      " [   9.5     3.01]\n",
      " [   7.      7.99]\n",
      " [  11.      5.4 ]\n",
      " [   9.6     4.56]\n",
      " [   8.4     7.45]\n",
      " [   9.4     9.12]\n",
      " [  32.      7.14]\n",
      " [   7.64    6.55]\n",
      " [  29.4     7.  ]\n",
      " [  41.2     8.  ]\n",
      " [  44.     14.2 ]\n",
      " [  68.      1.99]\n",
      " [  48.     15.44]\n",
      " [  51.      9.  ]\n",
      " [  52.     14.5 ]\n",
      " [  48.1     3.  ]\n",
      " [  47.4     6.  ]\n",
      " [  62.     29.99]\n",
      " [  59.9    10.15]\n",
      " [  81.     17.89]\n",
      " [  99.      6.87]\n",
      " [  86.      6.33]\n",
      " [  87.      9.  ]\n",
      " [  90.7    12.44]\n",
      " [ 111.      2.49]\n",
      " [ 119.      8.99]]\n"
     ]
    }
   ],
   "source": [
    "#Load target\n",
    "food_file = \"food.csv\"\n",
    "cuisine = pd.read_csv(food_file)\n",
    "target = {}\n",
    "i = 0\n",
    "for cuisineName in cuisine.Cuisine:\n",
    "    target[cuisineName.lower()] = cuisine.CuisineNumber[i]\n",
    "    i += 1\n",
    "    \n",
    "#Load features\n",
    "categories = pd.read_csv(food_file)\n",
    "features_category = {}\n",
    "i = 0\n",
    "for category in categories.FoodName:\n",
    "    features_category[category.lower()] = []\n",
    "    features_category[category.lower()].append(categories.FoodNumber[i])\n",
    "    features_category[category.lower()].append(categories.Price[i])\n",
    "    i += 1\n",
    "feature = []\n",
    "\n",
    "for category in categories.FoodName:\n",
    "    feature.append(features_category[category.lower()])\n",
    "    \n",
    "features = np.array(feature)\n",
    "X, y = features, target.keys()\n",
    "print X"
   ]
  },
  {
   "cell_type": "code",
   "execution_count": 22,
   "metadata": {
    "collapsed": false,
    "scrolled": false
   },
   "outputs": [],
   "source": [
    "model = KMeans(n_clusters=12)\n",
    "model.fit(X)\n",
    "#print model.cluster_centers_\n",
    "dictLabels = {0:\"american\", 1:\"african\", 2:\"chinese\", 3:\"ethiopian\", 4:\"indian\",5:\"italian\",6:\"fruit\",7:\"mandarin\", 8:\"mexican\", 9:\"mediterranean\", 10:\"thai\", 11:\"vietnamese\"}"
   ]
  },
  {
   "cell_type": "code",
   "execution_count": 32,
   "metadata": {
    "collapsed": false
   },
   "outputs": [
    {
     "name": "stdout",
     "output_type": "stream",
     "text": [
      "KMeans predicted cuisine as 'fruit'.\n"
     ]
    },
    {
     "name": "stderr",
     "output_type": "stream",
     "text": [
      "C:\\Users\\jubin\\Anaconda2\\lib\\site-packages\\sklearn\\utils\\validation.py:386: DeprecationWarning: Passing 1d arrays as data is deprecated in 0.17 and willraise ValueError in 0.19. Reshape your data either using X.reshape(-1, 1) if your data has a single feature or X.reshape(1, -1) if it contains a single sample.\n",
      "  DeprecationWarning)\n"
     ]
    }
   ],
   "source": [
    "#Enter calorie value\n",
    "predictCuisine = [19.6,7.9]\n",
    "print \"KMeans predicted cuisine as '%s'.\" %dictLabels[model.predict(predictCuisine)[0]]"
   ]
  },
  {
   "cell_type": "code",
   "execution_count": 25,
   "metadata": {
    "collapsed": false
   },
   "outputs": [
    {
     "name": "stdout",
     "output_type": "stream",
     "text": [
      "Accuracy Score: -256\n"
     ]
    }
   ],
   "source": [
    "print \"Accuracy Score: %d\" %model.score(X)"
   ]
  },
  {
   "cell_type": "code",
   "execution_count": 24,
   "metadata": {
    "collapsed": false
   },
   "outputs": [
    {
     "data": {
      "image/png": "[encoded data removed]",
      "text/plain": [
       "<matplotlib.figure.Figure at 0xcd3ed68>"
      ]
     },
     "metadata": {},
     "output_type": "display_data"
    }
   ],
   "source": [
    "distortions = []\n",
    "for i in range(1, 13):\n",
    "    km = KMeans(n_clusters = i, \n",
    "               init='k-means++', \n",
    "               n_init=10, \n",
    "               max_iter=300, \n",
    "               random_state=0)\n",
    "    km.fit(X)\n",
    "    distortions.append(km.inertia_)\n",
    "plt.plot(range(1,13), distortions, marker='o')\n",
    "plt.xlabel('Number of clusters')\n",
    "plt.ylabel('Distortion')\n",
    "plt.show()"
   ]
  },
  {
   "cell_type": "code",
   "execution_count": null,
   "metadata": {
    "collapsed": true
   },
   "outputs": [],
   "source": []
  }
 ],
 "metadata": {
  "anaconda-cloud": {},
  "kernelspec": {
   "display_name": "Python [conda root]",
   "language": "python",
   "name": "conda-root-py"
  },
  "language_info": {
   "codemirror_mode": {
    "name": "ipython",
    "version": 2
   },
   "file_extension": ".py",
   "mimetype": "text/x-python",
   "name": "python",
   "nbconvert_exporter": "python",
   "pygments_lexer": "ipython2",
   "version": "2.7.12"
  }
 },
 "nbformat": 4,
 "nbformat_minor": 0
}
