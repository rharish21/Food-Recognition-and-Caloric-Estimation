{
 "cells": [
  {
   "cell_type": "code",
   "execution_count": 15,
   "metadata": {
    "collapsed": false
   },
   "outputs": [],
   "source": [
    "%matplotlib inline\n",
    "from scipy import misc\n",
    "from scipy import ndimage\n",
    "import matplotlib.pyplot as plt\n",
    "import numpy as np\n",
    "import os\n",
    "import sys"
   ]
  },
  {
   "cell_type": "code",
   "execution_count": 16,
   "metadata": {
    "collapsed": false
   },
   "outputs": [],
   "source": [
    "#function for image processing\n",
    "def image_processing(path, image, count, isJpg):\n",
    "    if isJpg == True:\n",
    "        # file name of the file coming from the read_from_folder function\n",
    "        file_name = path + '/' + image\n",
    "        \n",
    "        # converting file to ndarray\n",
    "        img = misc.imread(file_name,mode = 'RGB')\n",
    "        imgArray = np.array(img, dtype='uint8')\n",
    "        \n",
    "        \n",
    "        # rotating it and changing its file name, extension\n",
    "        new_file_name = path + '/' + 'img' + str(count) + '.jpg'\n",
    "        \n",
    "        # resizing the image to size of 500*500\n",
    "        #new_img = misc.imresize(imgArray, (500,500), interp='bilinear')\n",
    "        \n",
    "        #saving all the possible file names\n",
    "        misc.imsave(new_file_name, imgArray)\n",
    "        \n",
    "        #deleting the previous images\n",
    "        os.remove(file_name)\n",
    "    else:\n",
    "        if image.find('.png') != -1 or image.find('.gif') != -1:\n",
    "            # name of the file\n",
    "            file_name = path + '/' + image\n",
    "            \n",
    "            # converting file to ndarray\n",
    "            \n",
    "            img = misc.imread(file_name,mode = 'RGB')\n",
    "            imgArray = np.array(img, dtype='uint8')\n",
    "            \n",
    "            # rotating it and changing its file name, extension\n",
    "            new_file_name = path + '/' + 'img' + str(count) + '.jpg'\n",
    "            \n",
    "            # resizing the image to size of 500*500\n",
    "            #new_img = misc.imresize(imgArray, (500,500), interp='bilinear')\n",
    "            \n",
    "            #saving all the possible file names\n",
    "            misc.imsave(new_file_name, imgArray)\n",
    "            \n",
    "            #deleting the previous images\n",
    "            os.remove(file_name)"
   ]
  },
  {
   "cell_type": "code",
   "execution_count": 17,
   "metadata": {
    "collapsed": false
   },
   "outputs": [],
   "source": [
    "# function to read the image from the folder\n",
    "folder_path = '/Users/harshitpareek/Downloads/Images' # test path for my computer\n",
    "def read_from_folder(path = folder_path):\n",
    "    counter = 0\n",
    "    os.chdir(path) # changing the current working directory with the path\n",
    "    for dir_path, dir_names, file_names in os.walk(os.getcwd()): # searching in every file and folder of the folder\n",
    "        # do the same code with every directory in the main directory\n",
    "        for dir_name in dir_names:\n",
    "            new_path = dir_path + '/' + dir_name\n",
    "            counter = 0\n",
    "            os.chdir(new_path)\n",
    "            for new_dir_path, new_dir_name, new_file_names in os.walk(os.getcwd()):\n",
    "                for file in new_file_names:\n",
    "                    if file.find('.jpg') != -1 or file.find('.jpeg') != -1: # find if the file has .jpg extension or not\n",
    "                        # code if the file already contain the .jpg file extension\n",
    "                        image_processing(new_dir_path,file,counter, True)\n",
    "                        counter += 1\n",
    "                    else:\n",
    "                        # code if the file does not contain the .jpg file extension\n",
    "                        image_processing(new_path,file,counter, False)\n",
    "                        counter += 1\n",
    "    #print(counter)\n",
    "read_from_folder()"
   ]
  },
  {
   "cell_type": "code",
   "execution_count": null,
   "metadata": {
    "collapsed": false
   },
   "outputs": [],
   "source": [
    "    \n",
    "    "
   ]
  },
  {
   "cell_type": "code",
   "execution_count": null,
   "metadata": {
    "collapsed": false
   },
   "outputs": [],
   "source": []
  },
  {
   "cell_type": "code",
   "execution_count": null,
   "metadata": {
    "collapsed": true
   },
   "outputs": [],
   "source": []
  }
 ],
 "metadata": {
  "anaconda-cloud": {},
  "kernelspec": {
   "display_name": "Python [Root]",
   "language": "python",
   "name": "Python [Root]"
  },
  "language_info": {
   "codemirror_mode": {
    "name": "ipython",
    "version": 3
   },
   "file_extension": ".py",
   "mimetype": "text/x-python",
   "name": "python",
   "nbconvert_exporter": "python",
   "pygments_lexer": "ipython3",
   "version": "3.5.2"
  }
 },
 "nbformat": 4,
 "nbformat_minor": 0
}
