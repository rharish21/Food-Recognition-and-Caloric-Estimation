{
 "cells": [
  {
   "cell_type": "code",
   "execution_count": 28,
   "metadata": {
    "collapsed": true
   },
   "outputs": [],
   "source": [
    "#import a dataset\n",
    "from sklearn import datasets\n",
    "import tensorflow as tf"
   ]
  },
  {
   "cell_type": "code",
   "execution_count": 29,
   "metadata": {
    "collapsed": true
   },
   "outputs": [],
   "source": [
    "#load the dataset\n",
    "iris = datasets.load_iris()\n",
    "\n",
    "#assign features and labels\n",
    "X = iris.data #features\n",
    "y = iris.target #labels"
   ]
  },
  {
   "cell_type": "code",
   "execution_count": 30,
   "metadata": {
    "collapsed": false
   },
   "outputs": [],
   "source": [
    "#import cross validation library\n",
    "from sklearn.cross_validation import train_test_split"
   ]
  },
  {
   "cell_type": "code",
   "execution_count": 31,
   "metadata": {
    "collapsed": true
   },
   "outputs": [],
   "source": [
    "#split the dataset into training and test\n",
    "X_train, X_test, y_train, y_test = train_test_split(X, y, test_size = .5)"
   ]
  },
  {
   "cell_type": "code",
   "execution_count": 32,
   "metadata": {
    "collapsed": false
   },
   "outputs": [
    {
     "name": "stdout",
     "output_type": "stream",
     "text": [
      "treeClassifier Predictions:  [0 1 2 1 1 0 2 2 0 1 2 2 1 1 2 1 2 0 1 2 2 1 1 1 0 2 0 2 0 0 0 0 2 0 0 2 2\n",
      " 2 1 2 2 2 0 1 2 1 1 0 2 1 0 1 0 0 1 0 0 2 1 1 0 2 2 0 2 1 1 2 0 1 0 2 0 2\n",
      " 0]\n",
      "treeClassifier Score:  0.973333333333\n"
     ]
    }
   ],
   "source": [
    "#1_import classifier #DecisionTree\n",
    "from sklearn import tree\n",
    "treeClassifier = tree.DecisionTreeClassifier()\n",
    "\n",
    "#find patterns among training data\n",
    "treeClassifier.fit(X_train, y_train)\n",
    "\n",
    "#make prediction on testing data, give classifier X_test (features) to predict y_test (labels)\n",
    "predictions = treeClassifier.predict(X_test)\n",
    "\n",
    "#print the predict, this will give y_test as output\n",
    "print \"treeClassifier Predictions: \", predictions\n",
    "\n",
    "#Calculate the accuracy of your prediction using accuracy_score\n",
    "from sklearn.metrics import accuracy_score\n",
    "print \"treeClassifier Score: \", accuracy_score(y_test, predictions)"
   ]
  },
  {
   "cell_type": "code",
   "execution_count": 34,
   "metadata": {
    "collapsed": false
   },
   "outputs": [
    {
     "name": "stdout",
     "output_type": "stream",
     "text": [
      "kNNClassifier Predictions:  [0 1 2 1 1 0 2 2 0 1 2 2 1 1 2 1 2 0 1 2 2 1 1 1 0 2 0 2 0 0 0 0 2 0 0 1 2\n",
      " 2 1 2 2 2 0 1 2 1 1 0 2 1 0 1 0 0 1 0 0 2 1 1 0 2 2 0 2 1 1 2 0 1 0 2 0 2\n",
      " 0]\n",
      "kNNClassifier Score:  0.96\n"
     ]
    }
   ],
   "source": [
    "#2_import classifier #KNearestNeighbors (Now we will use different classifier for same data)\n",
    "from sklearn.neighbors import KNeighborsClassifier\n",
    "kNNClassifier = KNeighborsClassifier()\n",
    "\n",
    "#find patterns among training data\n",
    "kNNClassifier.fit(X_train, y_train)\n",
    "\n",
    "#make prediction on testing data, give classifier X_test (features) to predict y_test (labels)\n",
    "predictions = kNNClassifier.predict(X_test)\n",
    "\n",
    "#print the predict, this will give y_test as output\n",
    "print \"kNNClassifier Predictions: \", predictions\n",
    "\n",
    "#Calculate the accuracy of your prediction using accuracy_score\n",
    "from sklearn.metrics import accuracy_score\n",
    "print \"kNNClassifier Score: \", accuracy_score(y_test, predictions)\n",
    "\n",
    "#Classifiers give same Output, but scoreis different because of randomness in train and test data"
   ]
  },
  {
   "cell_type": "code",
   "execution_count": null,
   "metadata": {
    "collapsed": true
   },
   "outputs": [],
   "source": []
  }
 ],
 "metadata": {
  "kernelspec": {
   "display_name": "Python 2",
   "language": "python",
   "name": "python2"
  },
  "language_info": {
   "codemirror_mode": {
    "name": "ipython",
    "version": 2
   },
   "file_extension": ".py",
   "mimetype": "text/x-python",
   "name": "python",
   "nbconvert_exporter": "python",
   "pygments_lexer": "ipython2",
   "version": "2.7.12"
  }
 },
 "nbformat": 4,
 "nbformat_minor": 1
}
